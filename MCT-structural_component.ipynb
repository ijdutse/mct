{
 "cells": [
  {
   "cell_type": "markdown",
   "metadata": {},
   "source": [
    "## Multilevel Clustering Technique (MCT)\n",
    "The following sections describe the implementation of the *multilevel clustering technique* for detecting *microcosms* on Twitter. The focus is on providing an answer to the question: what is the probability of detecting ***microcosms*** given a collection of a network data $\\mathcal{D}$ such that \n",
    "    $$p(structural~equivalence, textual~equivalence|\\mathcal{D}) = p(\\mathcal{S,T}|\\mathcal{D})$$\n",
    "The implementation is carried-out in two parts: identifying **Structural** and **Textual clusters** "
   ]
  },
  {
   "cell_type": "markdown",
   "metadata": {},
   "source": [
    "### I.Structurally-related clusters\n",
    "\n",
    "Given a finite collection of network data expressed in a window of tweets $w_z^k$, where $k$ identifies the window (the index of the window) and $z$ the size of the size, e.g. 300 network objects. The window of tweets is a subset of $\\mathcal{D}$ such that $\\mathcal{w}_z^k \\subset \\mathcal{D}$\n",
    "#### Implementation:\n",
    "\n",
    "    returns the likelihood of reciprocity between pairs\n",
    "\n",
    " - ***initialisation:*** $\\{\\} \\longleftarrow \\mathcal{S}_r; \\{\\} \\longleftarrow \\mathcal{S}_u$\n",
    " - ***input:*** a finite collection of network data $\\mathcal{D} \\neq \\emptyset$\n",
    " - $\\forall v_i, v_j \\in \\mathcal{D}$, compute $p(R_{v_i,v_j}) \\hspace{28mm} \\triangleright~ v_i\\neq v_j$ \n",
    " - if $p(R_{v_i,v_j}) \\geq \\tau \\hspace{58mm} \\triangleright ~\\tau$, *a predefined threshold*\n",
    "     - $\\mathcal{S}_r \\gets (v_i,v_j) \\hspace{54mm} \\triangleright$ *structurally-related*\n",
    " - else:\n",
    "     - $\\mathcal{S}_u\\gets (v_i,v_j) \\hspace{54mm} \\triangleright$ *structurally-unrelated*\n",
    " - ***output:***\n",
    "     - $\\mathcal{S}_r,\\mathcal{S}_u, \\mathcal{M}_{sa}^{n\\times n}\\hspace{52mm}\\triangleright~$ *adjacency matrix* "
   ]
  },
  {
   "cell_type": "markdown",
   "metadata": {},
   "source": [
    "**1: Load Relevant Packages**"
   ]
  },
  {
   "cell_type": "code",
   "execution_count": 1,
   "metadata": {},
   "outputs": [],
   "source": [
    "%matplotlib inline\n",
    "import matplotlib.pyplot as plt\n",
    "import matplotlib.ticker\n",
    "import seaborn as sns\n",
    "import pandas as pd\n",
    "import numpy as np\n",
    "import itertools\n",
    "from itertools import zip_longest as zipper\n",
    "from collections import Counter,defaultdict\n",
    "import tweepy\n",
    "from mlxtend.plotting import ecdf\n",
    "import time, json, re, math\n",
    "from scipy.stats import logistic\n",
    "import scipy.sparse\n",
    "#suppress warnings:\n",
    "import warnings\n",
    "warnings.filterwarnings('ignore')"
   ]
  },
  {
   "cell_type": "markdown",
   "metadata": {},
   "source": [
    "**2: Datasets and Data Prep:** network dataset $\\mathcal{D}$ consisting of all relevant features denoted by $\\mathcal{A}_f$, and subset features by $\\chi_f$\n",
    "\n",
    "    data prep required only if the data is not in the proper format for the analysis"
   ]
  },
  {
   "cell_type": "code",
   "execution_count": 49,
   "metadata": {},
   "outputs": [
    {
     "data": {
      "text/plain": [
       "(437521, Index(['UserID', 'ScreenName', 'RawTweets', 'Indegree', 'Outdegree',\n",
       "        'Category'],\n",
       "       dtype='object'))"
      ]
     },
     "execution_count": 49,
     "metadata": {},
     "output_type": "execute_result"
    }
   ],
   "source": [
    "D = pd.read_csv('data/data_for_computing_structural_equivalence.csv',low_memory=False)\n",
    "X = X.dropna()\n",
    "len(X), D.columns"
   ]
  },
  {
   "cell_type": "markdown",
   "metadata": {},
   "source": [
    "    Relevant Stats: The dataset consists of 438044 nodes. Each of the node in the dataset is compared with other nodes to identify nodes with high degree of structural similarity."
   ]
  },
  {
   "cell_type": "markdown",
   "metadata": {},
   "source": [
    "**Load preprocessed data for the analysis**"
   ]
  },
  {
   "cell_type": "markdown",
   "metadata": {},
   "source": [
    "**Some Helper Functions**"
   ]
  },
  {
   "cell_type": "code",
   "execution_count": 2,
   "metadata": {},
   "outputs": [],
   "source": [
    "# a simple function that returns the correct designation based on the ratios/values of correponding features:\n",
    "def get_abs_values(x): # this function applies to indegree and outdegree only ... \n",
    "    if x >= 0.75 and x <= 1.25:\n",
    "        return 1\n",
    "    else:\n",
    "        return 0\n",
    "# function to compute the Jaccard similarity:\n",
    "def jaccard_sim(l):\n",
    "    a = [i for i in l if i>0]\n",
    "    b = [i for i in l if i<1]\n",
    "    return (len(a)/(len(a)+len(b)))\n",
    "# binning communities to a high-level structure acording:\n",
    "comm_bands = np.linspace(0.75, 1.25) # create evely spaced-communities\n",
    "# account for outliers/very high values:\n",
    "comm_bands = np.append(comm_bands, [5,10,50,100,150,300,700,1000])\n",
    "# return the closest value to each computed values about reciprocity:\n",
    "#dk['CommBand']=dk.RecipComm.apply(lambda x: min(comm_bands, key=lambda v: abs(v-x)))"
   ]
  },
  {
   "cell_type": "markdown",
   "metadata": {},
   "source": [
    "**extract stucturally-related and unrelated nodes**\n",
    "\n",
    "    takes chunks of data and returns probable dyads"
   ]
  },
  {
   "cell_type": "code",
   "execution_count": 72,
   "metadata": {},
   "outputs": [],
   "source": [
    "# code segment to return the probability of a reciprocal tie between pair of nodes based on structural similariy\n",
    "\n",
    "SP = {'Va_ID':[],'Va_Name':[],'Vi_ID':[],'Vi_Name':[],'JSim_Vai':[],'Prob_Tie':[],'Dyads':[],'NetSize':[],\\\n",
    "      'RecipComm':[],'Ind_Vai':[],'Out_Vai':[],'Cat_Vai':[],'AbsInd_Vai':[],'AbsOut_Vai':[],'AbsCat_Vai':[]}\n",
    "               \n",
    "# a loop for the anchor node is needed such that after full iteration, another node is selected as the anchor node:\n",
    "for r in range(len(X)-2):\n",
    "    va_uid,va_name,va_ind = X.iloc[r].UserID, X.iloc[r].ScreenName, int(X.iloc[r].Indegree)\n",
    "    va_out,va_cat = int(X.iloc[r].Outdegree), bool(X.iloc[r].Category)\n",
    "    netsize = (va_ind+va_out)\n",
    "    try:\n",
    "        for i in range(r+1, len(X)+1): # keep increasing the node for comparison until the end ... \n",
    "\n",
    "                vi_uid, vi_name, vi_ind = X.iloc[i].UserID, X.iloc[i].ScreenName, int(X.iloc[i].Indegree)\n",
    "                vi_out, vi_cat = int(X.iloc[i].Outdegree), bool(X.iloc[i].Category)\n",
    "        \n",
    "                # compute the ratios of features components, see text for details:\n",
    "                Ind_Vai = va_ind/vi_ind\n",
    "                Out_Vai = va_out/vi_out\n",
    "                        # evaluate the boolean values and assign numeric values - true(1) and false (0)\n",
    "                if (va_cat) | (vi_cat) == True: # evaluate boolean ...and assign numeric values ... \n",
    "                    Cat_Vai = 1\n",
    "                else:\n",
    "                    Cat_Vai = 0  \n",
    "                # extract subset of features to compute the final similarity based on Jaccard index:\n",
    "                AbsInd_Vai = get_abs_values(Ind_Vai)\n",
    "                AbsOut_Vai = get_abs_values(Out_Vai)\n",
    "                AbsCat_Vai = Cat_Vai\n",
    "                # a high-level reciprocal communities\n",
    "                recip_comm = (Ind_Vai + Out_Vai)/2#+Cat_Vai)/3 \n",
    "                # compute the J-sim and assign to the dataframe:\n",
    "                JSim_Vai = jaccard_sim([AbsInd_Vai,AbsOut_Vai,AbsCat_Vai])\n",
    "                \n",
    "                # CONSTANT ERROR AND PROBABLE RECIPROCITY: expressed as a function of the similaity value:\n",
    "                Error_Vai = round((1/(1+np.exp(1+np.log(JSim_Vai + 0.3)*(0.3)))),3)\n",
    "                \n",
    "                # comput phi i.e. the related terms ... \n",
    "                SimAndError_Vai = round(-np.log(Error_Vai + JSim_Vai) * (Error_Vai + JSim_Vai),3)\n",
    "                Prob_Tie =  1/(1+np.exp(SimAndError_Vai))\n",
    "                #Denote pairs as dyads (1) or otherwise (0) based on a threshold, 0.45 in this instance\n",
    "                if Prob_Tie > 0.45:\n",
    "                    Dyads = 1\n",
    "                else:\n",
    "                    Dyads = 0\n",
    "                netsize = va_ind+va_out\n",
    "                \n",
    "                #update data structure:\n",
    "                SP['Va_ID'].append(va_uid), SP['Va_Name'].append(va_name),SP['Vi_ID'].append(vi_uid)\n",
    "                SP['Vi_Name'].append(vi_name), SP['JSim_Vai'].append(JSim_Vai), SP['Prob_Tie'].append(Prob_Tie)\n",
    "                SP['Dyads'].append(Dyads)\n",
    "                SP['NetSize'].append(netsize)\n",
    "                SP['RecipComm'].append(recip_comm)\n",
    "                SP['Ind_Vai'].append(Ind_Vai)\n",
    "                SP['Out_Vai'].append(Out_Vai)\n",
    "                SP['Cat_Vai'].append(Cat_Vai)\n",
    "                SP['AbsInd_Vai'].append(AbsInd_Vai)\n",
    "                SP['AbsOut_Vai'].append(AbsOut_Vai)\n",
    "                SP['AbsCat_Vai'].append(AbsCat_Vai)\n",
    "    except:\n",
    "        continue"
   ]
  },
  {
   "cell_type": "code",
   "execution_count": 73,
   "metadata": {},
   "outputs": [
    {
     "data": {
      "text/plain": [
       "(664877, 9830)"
      ]
     },
     "execution_count": 73,
     "metadata": {},
     "output_type": "execute_result"
    }
   ],
   "source": [
    "# convert output to a dataframe object:\n",
    "dk = pd.DataFrame(SP)\n",
    "len(dk), len(set(dk.Va_Name))"
   ]
  },
  {
   "cell_type": "markdown",
   "metadata": {},
   "source": [
    "**Bin users according to network size**"
   ]
  },
  {
   "cell_type": "code",
   "execution_count": 74,
   "metadata": {},
   "outputs": [],
   "source": [
    "# assign the length of the network size for binning:\n",
    "s=set(dk.NetSize.values)\n",
    "n_bins = len(s)\n",
    "# reduce the bins ... \n",
    "n_bins = n_bins-1000 # previous reduction\n",
    "#create the network bins:\n",
    "net_bins = np.linspace(dk['NetSize'].min(), dk['NetSize'].max(), n_bins, dtype=np.int64)\n",
    "net_bin_index = np.digitize(dk['NetSize'], net_bins) # get the index of each item in the unbinned data\n",
    "dk['NetBinIndex'] = net_bin_index # add the column containing the time bin of each data item\n",
    "#associate each network bin to its corresponding network size:\n",
    "\n",
    "# this code include the actual bin for each time:\n",
    "net_bins_list = net_bins.tolist() # convert the net_bins to list from np.ndarray to support appending\n",
    "net_bands = [] # stores binned posting times as periods\n",
    "for index in dk.NetBinIndex:\n",
    "    net_bands.append(net_bins_list[index])\n",
    "    net_bins_list.append(net_bins_list[index])#replace item back to the list to avoid exhausting the list b4 end\n",
    "dk['NetBand'] = net_bands"
   ]
  },
  {
   "cell_type": "markdown",
   "metadata": {},
   "source": [
    "**Bin users according to high-level communities**"
   ]
  },
  {
   "cell_type": "code",
   "execution_count": 75,
   "metadata": {},
   "outputs": [],
   "source": [
    "dk['CommBand']=dk.RecipComm.apply(lambda x: round(min(comm_bands, key=lambda v: abs(v-x)),2))\n",
    "#or: dk['CommBand']=dk.CommBand.apply(lambda x: round(x,2))"
   ]
  },
  {
   "cell_type": "markdown",
   "metadata": {},
   "source": [
    "**Data Categorisation and Storage for further analysis ...**"
   ]
  },
  {
   "cell_type": "code",
   "execution_count": 76,
   "metadata": {},
   "outputs": [
    {
     "data": {
      "text/plain": [
       "(96511, 568366, 8643, 9823)"
      ]
     },
     "execution_count": 76,
     "metadata": {},
     "output_type": "execute_result"
    }
   ],
   "source": [
    "#convert to dataframe and store for further analysis ...\n",
    "#structurally-related nodes:\n",
    "sr  = dk[dk.Dyads>0]\n",
    "# structurally-unrelated nodes:\n",
    "su = dk[dk.Dyads<1]\n",
    "# sizes \n",
    "len(sr),len(su),len(set(sr.Va_Name)),len(set(su.Vi_Name))"
   ]
  },
  {
   "cell_type": "code",
   "execution_count": 77,
   "metadata": {},
   "outputs": [],
   "source": [
    "# save files:\n",
    "#all data - structurally similar and dissimilar nodes\n",
    "dk.to_csv('data/mct_structurally_related_nodes03.csv', index_label=False)\n",
    "#structurally similar:\n",
    "sr.to_csv('data/mct_structurally_similar_nodes03.csv', index_label=False)\n",
    "#structurally-dissimilar:\n",
    "su.to_csv('data/mct_structurally_dissimilar_nodes03.csv', index_label=False)"
   ]
  },
  {
   "cell_type": "markdown",
   "metadata": {},
   "source": [
    "**dyads for constructing the adjacency matrix**"
   ]
  },
  {
   "cell_type": "code",
   "execution_count": null,
   "metadata": {},
   "outputs": [],
   "source": [
    "#load dataframe of related and unrelated nodes for spectral analysis ... \n",
    "dsr = pd.read_csv('data/mct_structurally_related_nodes.csv')\n",
    "# drop duplicates in the structurally-related nodes:\n",
    "df = dsr.drop_duplicates(subset='Va_Name')\n",
    "len(df),len(set(df.Va_Name)), len(set(df.Vi_Name))"
   ]
  },
  {
   "cell_type": "markdown",
   "metadata": {},
   "source": [
    "    #first and lst 5 samples showing relevant features and values ... "
   ]
  },
  {
   "cell_type": "code",
   "execution_count": 3,
   "metadata": {},
   "outputs": [
    {
     "data": {
      "text/html": [
       "<div>\n",
       "<style scoped>\n",
       "    .dataframe tbody tr th:only-of-type {\n",
       "        vertical-align: middle;\n",
       "    }\n",
       "\n",
       "    .dataframe tbody tr th {\n",
       "        vertical-align: top;\n",
       "    }\n",
       "\n",
       "    .dataframe thead th {\n",
       "        text-align: right;\n",
       "    }\n",
       "</style>\n",
       "<table border=\"1\" class=\"dataframe\">\n",
       "  <thead>\n",
       "    <tr style=\"text-align: right;\">\n",
       "      <th></th>\n",
       "      <th>Va_ID</th>\n",
       "      <th>Va_Name</th>\n",
       "      <th>Vi_ID</th>\n",
       "      <th>Vi_Name</th>\n",
       "      <th>JSim_Vai</th>\n",
       "      <th>Prob_Tie</th>\n",
       "      <th>Dyads</th>\n",
       "      <th>NetSize</th>\n",
       "      <th>RecipComm</th>\n",
       "      <th>Ind_Vai</th>\n",
       "      <th>Out_Vai</th>\n",
       "      <th>Cat_Vai</th>\n",
       "      <th>AbsInd_Vai</th>\n",
       "      <th>AbsOut_Vai</th>\n",
       "      <th>AbsCat_Vai</th>\n",
       "      <th>NetBinIndex</th>\n",
       "      <th>NetBand</th>\n",
       "      <th>CommBand</th>\n",
       "    </tr>\n",
       "  </thead>\n",
       "  <tbody>\n",
       "    <tr>\n",
       "      <th>25</th>\n",
       "      <td>59757778</td>\n",
       "      <td>Emirati_Sheikha</td>\n",
       "      <td>104576154</td>\n",
       "      <td>wufandmew</td>\n",
       "      <td>0.666667</td>\n",
       "      <td>0.485004</td>\n",
       "      <td>1</td>\n",
       "      <td>17852</td>\n",
       "      <td>5.261233</td>\n",
       "      <td>9.397590</td>\n",
       "      <td>1.124875</td>\n",
       "      <td>1</td>\n",
       "      <td>0</td>\n",
       "      <td>1</td>\n",
       "      <td>1</td>\n",
       "      <td>13</td>\n",
       "      <td>18304</td>\n",
       "      <td>5.00</td>\n",
       "    </tr>\n",
       "    <tr>\n",
       "      <th>35</th>\n",
       "      <td>59757778</td>\n",
       "      <td>Emirati_Sheikha</td>\n",
       "      <td>88635165</td>\n",
       "      <td>Intersymbol</td>\n",
       "      <td>0.666667</td>\n",
       "      <td>0.485004</td>\n",
       "      <td>1</td>\n",
       "      <td>17852</td>\n",
       "      <td>3.292146</td>\n",
       "      <td>5.794948</td>\n",
       "      <td>0.789345</td>\n",
       "      <td>1</td>\n",
       "      <td>0</td>\n",
       "      <td>1</td>\n",
       "      <td>1</td>\n",
       "      <td>13</td>\n",
       "      <td>18304</td>\n",
       "      <td>5.00</td>\n",
       "    </tr>\n",
       "    <tr>\n",
       "      <th>61</th>\n",
       "      <td>59757778</td>\n",
       "      <td>Emirati_Sheikha</td>\n",
       "      <td>735872026968088576</td>\n",
       "      <td>nativetexan27</td>\n",
       "      <td>0.666667</td>\n",
       "      <td>0.485004</td>\n",
       "      <td>1</td>\n",
       "      <td>17852</td>\n",
       "      <td>2.652840</td>\n",
       "      <td>4.542807</td>\n",
       "      <td>0.762873</td>\n",
       "      <td>1</td>\n",
       "      <td>0</td>\n",
       "      <td>1</td>\n",
       "      <td>1</td>\n",
       "      <td>13</td>\n",
       "      <td>18304</td>\n",
       "      <td>1.25</td>\n",
       "    </tr>\n",
       "    <tr>\n",
       "      <th>106</th>\n",
       "      <td>2307161366</td>\n",
       "      <td>Fred_Mattera</td>\n",
       "      <td>834612585337077760</td>\n",
       "      <td>3192_717</td>\n",
       "      <td>0.666667</td>\n",
       "      <td>0.485004</td>\n",
       "      <td>1</td>\n",
       "      <td>48</td>\n",
       "      <td>0.556829</td>\n",
       "      <td>0.760000</td>\n",
       "      <td>0.353659</td>\n",
       "      <td>1</td>\n",
       "      <td>1</td>\n",
       "      <td>0</td>\n",
       "      <td>1</td>\n",
       "      <td>1</td>\n",
       "      <td>1408</td>\n",
       "      <td>0.75</td>\n",
       "    </tr>\n",
       "    <tr>\n",
       "      <th>132</th>\n",
       "      <td>721336278411821056</td>\n",
       "      <td>cakey_taylor</td>\n",
       "      <td>758472230565216256</td>\n",
       "      <td>shannon120469</td>\n",
       "      <td>0.666667</td>\n",
       "      <td>0.485004</td>\n",
       "      <td>1</td>\n",
       "      <td>595</td>\n",
       "      <td>3.622097</td>\n",
       "      <td>6.264706</td>\n",
       "      <td>0.979487</td>\n",
       "      <td>1</td>\n",
       "      <td>0</td>\n",
       "      <td>1</td>\n",
       "      <td>1</td>\n",
       "      <td>1</td>\n",
       "      <td>1408</td>\n",
       "      <td>5.00</td>\n",
       "    </tr>\n",
       "  </tbody>\n",
       "</table>\n",
       "</div>"
      ],
      "text/plain": [
       "                  Va_ID          Va_Name               Vi_ID        Vi_Name  \\\n",
       "25             59757778  Emirati_Sheikha           104576154      wufandmew   \n",
       "35             59757778  Emirati_Sheikha            88635165    Intersymbol   \n",
       "61             59757778  Emirati_Sheikha  735872026968088576  nativetexan27   \n",
       "106          2307161366     Fred_Mattera  834612585337077760       3192_717   \n",
       "132  721336278411821056     cakey_taylor  758472230565216256  shannon120469   \n",
       "\n",
       "     JSim_Vai  Prob_Tie  Dyads  NetSize  RecipComm   Ind_Vai   Out_Vai  \\\n",
       "25   0.666667  0.485004      1    17852   5.261233  9.397590  1.124875   \n",
       "35   0.666667  0.485004      1    17852   3.292146  5.794948  0.789345   \n",
       "61   0.666667  0.485004      1    17852   2.652840  4.542807  0.762873   \n",
       "106  0.666667  0.485004      1       48   0.556829  0.760000  0.353659   \n",
       "132  0.666667  0.485004      1      595   3.622097  6.264706  0.979487   \n",
       "\n",
       "     Cat_Vai  AbsInd_Vai  AbsOut_Vai  AbsCat_Vai  NetBinIndex  NetBand  \\\n",
       "25         1           0           1           1           13    18304   \n",
       "35         1           0           1           1           13    18304   \n",
       "61         1           0           1           1           13    18304   \n",
       "106        1           1           0           1            1     1408   \n",
       "132        1           0           1           1            1     1408   \n",
       "\n",
       "     CommBand  \n",
       "25       5.00  \n",
       "35       5.00  \n",
       "61       1.25  \n",
       "106      0.75  \n",
       "132      5.00  "
      ]
     },
     "execution_count": 3,
     "metadata": {},
     "output_type": "execute_result"
    }
   ],
   "source": [
    "df.head() #first 5 samples:"
   ]
  },
  {
   "cell_type": "code",
   "execution_count": 4,
   "metadata": {},
   "outputs": [
    {
     "data": {
      "text/html": [
       "<div>\n",
       "<style scoped>\n",
       "    .dataframe tbody tr th:only-of-type {\n",
       "        vertical-align: middle;\n",
       "    }\n",
       "\n",
       "    .dataframe tbody tr th {\n",
       "        vertical-align: top;\n",
       "    }\n",
       "\n",
       "    .dataframe thead th {\n",
       "        text-align: right;\n",
       "    }\n",
       "</style>\n",
       "<table border=\"1\" class=\"dataframe\">\n",
       "  <thead>\n",
       "    <tr style=\"text-align: right;\">\n",
       "      <th></th>\n",
       "      <th>Va_ID</th>\n",
       "      <th>Va_Name</th>\n",
       "      <th>Vi_ID</th>\n",
       "      <th>Vi_Name</th>\n",
       "      <th>JSim_Vai</th>\n",
       "      <th>Prob_Tie</th>\n",
       "      <th>Dyads</th>\n",
       "      <th>NetSize</th>\n",
       "      <th>RecipComm</th>\n",
       "      <th>Ind_Vai</th>\n",
       "      <th>Out_Vai</th>\n",
       "      <th>Cat_Vai</th>\n",
       "      <th>AbsInd_Vai</th>\n",
       "      <th>AbsOut_Vai</th>\n",
       "      <th>AbsCat_Vai</th>\n",
       "      <th>NetBinIndex</th>\n",
       "      <th>NetBand</th>\n",
       "      <th>CommBand</th>\n",
       "    </tr>\n",
       "  </thead>\n",
       "  <tbody>\n",
       "    <tr>\n",
       "      <th>14811</th>\n",
       "      <td>4003432061</td>\n",
       "      <td>HeartOMfilm</td>\n",
       "      <td>612770276</td>\n",
       "      <td>ADHRB</td>\n",
       "      <td>0.666667</td>\n",
       "      <td>0.485004</td>\n",
       "      <td>1</td>\n",
       "      <td>661</td>\n",
       "      <td>0.422138</td>\n",
       "      <td>0.017034</td>\n",
       "      <td>0.827243</td>\n",
       "      <td>1</td>\n",
       "      <td>0</td>\n",
       "      <td>1</td>\n",
       "      <td>1</td>\n",
       "      <td>1</td>\n",
       "      <td>1408</td>\n",
       "      <td>0.75</td>\n",
       "    </tr>\n",
       "    <tr>\n",
       "      <th>14812</th>\n",
       "      <td>4003432061</td>\n",
       "      <td>HeartOMfilm</td>\n",
       "      <td>563992851</td>\n",
       "      <td>GoodGovSeminar</td>\n",
       "      <td>0.666667</td>\n",
       "      <td>0.485004</td>\n",
       "      <td>1</td>\n",
       "      <td>661</td>\n",
       "      <td>1.173375</td>\n",
       "      <td>1.018750</td>\n",
       "      <td>1.328000</td>\n",
       "      <td>1</td>\n",
       "      <td>1</td>\n",
       "      <td>0</td>\n",
       "      <td>1</td>\n",
       "      <td>1</td>\n",
       "      <td>1408</td>\n",
       "      <td>1.17</td>\n",
       "    </tr>\n",
       "    <tr>\n",
       "      <th>14821</th>\n",
       "      <td>25502169</td>\n",
       "      <td>TinaGhelli</td>\n",
       "      <td>19496043</td>\n",
       "      <td>PshrinkEmeritus</td>\n",
       "      <td>1.000000</td>\n",
       "      <td>0.570527</td>\n",
       "      <td>1</td>\n",
       "      <td>2812</td>\n",
       "      <td>1.023669</td>\n",
       "      <td>1.083217</td>\n",
       "      <td>0.964122</td>\n",
       "      <td>1</td>\n",
       "      <td>1</td>\n",
       "      <td>1</td>\n",
       "      <td>1</td>\n",
       "      <td>2</td>\n",
       "      <td>2816</td>\n",
       "      <td>1.03</td>\n",
       "    </tr>\n",
       "    <tr>\n",
       "      <th>14823</th>\n",
       "      <td>25502169</td>\n",
       "      <td>TinaGhelli</td>\n",
       "      <td>2746240046</td>\n",
       "      <td>IntJewCon</td>\n",
       "      <td>0.666667</td>\n",
       "      <td>0.485004</td>\n",
       "      <td>1</td>\n",
       "      <td>2812</td>\n",
       "      <td>1.191275</td>\n",
       "      <td>0.953818</td>\n",
       "      <td>1.428733</td>\n",
       "      <td>1</td>\n",
       "      <td>1</td>\n",
       "      <td>0</td>\n",
       "      <td>1</td>\n",
       "      <td>2</td>\n",
       "      <td>2816</td>\n",
       "      <td>1.19</td>\n",
       "    </tr>\n",
       "    <tr>\n",
       "      <th>14824</th>\n",
       "      <td>25502169</td>\n",
       "      <td>TinaGhelli</td>\n",
       "      <td>2808451328</td>\n",
       "      <td>stump54jumper</td>\n",
       "      <td>1.000000</td>\n",
       "      <td>0.570527</td>\n",
       "      <td>1</td>\n",
       "      <td>2812</td>\n",
       "      <td>0.934321</td>\n",
       "      <td>0.874153</td>\n",
       "      <td>0.994488</td>\n",
       "      <td>1</td>\n",
       "      <td>1</td>\n",
       "      <td>1</td>\n",
       "      <td>1</td>\n",
       "      <td>2</td>\n",
       "      <td>2816</td>\n",
       "      <td>0.93</td>\n",
       "    </tr>\n",
       "  </tbody>\n",
       "</table>\n",
       "</div>"
      ],
      "text/plain": [
       "            Va_ID      Va_Name       Vi_ID          Vi_Name  JSim_Vai  \\\n",
       "14811  4003432061  HeartOMfilm   612770276            ADHRB  0.666667   \n",
       "14812  4003432061  HeartOMfilm   563992851   GoodGovSeminar  0.666667   \n",
       "14821    25502169   TinaGhelli    19496043  PshrinkEmeritus  1.000000   \n",
       "14823    25502169   TinaGhelli  2746240046        IntJewCon  0.666667   \n",
       "14824    25502169   TinaGhelli  2808451328    stump54jumper  1.000000   \n",
       "\n",
       "       Prob_Tie  Dyads  NetSize  RecipComm   Ind_Vai   Out_Vai  Cat_Vai  \\\n",
       "14811  0.485004      1      661   0.422138  0.017034  0.827243        1   \n",
       "14812  0.485004      1      661   1.173375  1.018750  1.328000        1   \n",
       "14821  0.570527      1     2812   1.023669  1.083217  0.964122        1   \n",
       "14823  0.485004      1     2812   1.191275  0.953818  1.428733        1   \n",
       "14824  0.570527      1     2812   0.934321  0.874153  0.994488        1   \n",
       "\n",
       "       AbsInd_Vai  AbsOut_Vai  AbsCat_Vai  NetBinIndex  NetBand  CommBand  \n",
       "14811           0           1           1            1     1408      0.75  \n",
       "14812           1           0           1            1     1408      1.17  \n",
       "14821           1           1           1            2     2816      1.03  \n",
       "14823           1           0           1            2     2816      1.19  \n",
       "14824           1           1           1            2     2816      0.93  "
      ]
     },
     "execution_count": 4,
     "metadata": {},
     "output_type": "execute_result"
    }
   ],
   "source": [
    "df.tail() #last 5 samples: "
   ]
  },
  {
   "cell_type": "markdown",
   "metadata": {},
   "source": [
    "**Construction of Matrices:** *adjacency, degree, and Laplacian* ..#Include information about the degree matrix in the dataframe\n",
    "\n",
    "    # get count of edges of each anchor node in both structurally-related and unrelated data:\n",
    "***PD: Nodes adjacency matrix:*** $\\mathcal{M}_{sc_{va}}^{n\\times n}$"
   ]
  },
  {
   "cell_type": "code",
   "execution_count": null,
   "metadata": {},
   "outputs": [],
   "source": [
    "# Create a dataframe based on the lenght of users to enable formation of an Adjency Matrix .... \n",
    "#empty date frame ... with columns and index based on the union of the users ...\n",
    "columns = set.union(set(df.Va_Name),set(df.Vi_Name))\n",
    "index = set.union(set(df.Va_Name),set(df.Vi_Name))\n",
    "sr_amt =pd.DataFrame(np.zeros(shape=(len(index),len(columns))),columns=columns, index=index)\n",
    "# update with reevan values ... \n",
    "for v1, v2, r in zip(df.Va_Name, df.Vi_Name,df.Dyads):\n",
    "    if r>0:\n",
    "        sr_amt.at[v1,v2]=r\n",
    "    else:\n",
    "        sr_amt.at[v1,v2]=0\n",
    "# get the users with reciprocal tiesonly\n",
    "# check entries: sr_amt[sr_amt.any()>0]\n",
    "k=sr_amt[sr_amt.values>0] \n",
    "sr_amt.shape, k.shape"
   ]
  },
  {
   "cell_type": "code",
   "execution_count": 137,
   "metadata": {},
   "outputs": [
    {
     "data": {
      "text/html": [
       "<div>\n",
       "<style scoped>\n",
       "    .dataframe tbody tr th:only-of-type {\n",
       "        vertical-align: middle;\n",
       "    }\n",
       "\n",
       "    .dataframe tbody tr th {\n",
       "        vertical-align: top;\n",
       "    }\n",
       "\n",
       "    .dataframe thead th {\n",
       "        text-align: right;\n",
       "    }\n",
       "</style>\n",
       "<table border=\"1\" class=\"dataframe\">\n",
       "  <thead>\n",
       "    <tr style=\"text-align: right;\">\n",
       "      <th></th>\n",
       "      <th>ItaliaCamp</th>\n",
       "      <th>LuluLAngeles</th>\n",
       "      <th>SugarAndMusk</th>\n",
       "      <th>GorillaCapitlst</th>\n",
       "      <th>NewsGrit</th>\n",
       "      <th>PshrinkEmeritus</th>\n",
       "      <th>CorbettTracie</th>\n",
       "      <th>oidptg</th>\n",
       "      <th>NietzscheAndDan</th>\n",
       "      <th>ColombianRefug</th>\n",
       "      <th>...</th>\n",
       "      <th>6549lmartin</th>\n",
       "      <th>ilaeornom</th>\n",
       "      <th>Pairsonnalites</th>\n",
       "      <th>MariaLCX</th>\n",
       "      <th>fo77owme</th>\n",
       "      <th>cesarshrimp100</th>\n",
       "      <th>silaas3005</th>\n",
       "      <th>DebbyRevere</th>\n",
       "      <th>HarunMaruf</th>\n",
       "      <th>kgerstman</th>\n",
       "    </tr>\n",
       "  </thead>\n",
       "  <tbody>\n",
       "    <tr>\n",
       "      <th>ItaliaCamp</th>\n",
       "      <td>0.0</td>\n",
       "      <td>0.0</td>\n",
       "      <td>0.0</td>\n",
       "      <td>0.0</td>\n",
       "      <td>0.0</td>\n",
       "      <td>0.0</td>\n",
       "      <td>0.0</td>\n",
       "      <td>1.0</td>\n",
       "      <td>0.0</td>\n",
       "      <td>0.0</td>\n",
       "      <td>...</td>\n",
       "      <td>0.0</td>\n",
       "      <td>0.0</td>\n",
       "      <td>0.0</td>\n",
       "      <td>0.0</td>\n",
       "      <td>0.0</td>\n",
       "      <td>0.0</td>\n",
       "      <td>1.0</td>\n",
       "      <td>0.0</td>\n",
       "      <td>0.0</td>\n",
       "      <td>0.0</td>\n",
       "    </tr>\n",
       "    <tr>\n",
       "      <th>LuluLAngeles</th>\n",
       "      <td>1.0</td>\n",
       "      <td>0.0</td>\n",
       "      <td>0.0</td>\n",
       "      <td>1.0</td>\n",
       "      <td>0.0</td>\n",
       "      <td>0.0</td>\n",
       "      <td>0.0</td>\n",
       "      <td>1.0</td>\n",
       "      <td>1.0</td>\n",
       "      <td>0.0</td>\n",
       "      <td>...</td>\n",
       "      <td>0.0</td>\n",
       "      <td>0.0</td>\n",
       "      <td>0.0</td>\n",
       "      <td>0.0</td>\n",
       "      <td>0.0</td>\n",
       "      <td>0.0</td>\n",
       "      <td>1.0</td>\n",
       "      <td>0.0</td>\n",
       "      <td>0.0</td>\n",
       "      <td>0.0</td>\n",
       "    </tr>\n",
       "    <tr>\n",
       "      <th>SugarAndMusk</th>\n",
       "      <td>0.0</td>\n",
       "      <td>0.0</td>\n",
       "      <td>0.0</td>\n",
       "      <td>0.0</td>\n",
       "      <td>0.0</td>\n",
       "      <td>0.0</td>\n",
       "      <td>0.0</td>\n",
       "      <td>0.0</td>\n",
       "      <td>0.0</td>\n",
       "      <td>0.0</td>\n",
       "      <td>...</td>\n",
       "      <td>0.0</td>\n",
       "      <td>0.0</td>\n",
       "      <td>0.0</td>\n",
       "      <td>0.0</td>\n",
       "      <td>0.0</td>\n",
       "      <td>0.0</td>\n",
       "      <td>0.0</td>\n",
       "      <td>0.0</td>\n",
       "      <td>0.0</td>\n",
       "      <td>0.0</td>\n",
       "    </tr>\n",
       "    <tr>\n",
       "      <th>GorillaCapitlst</th>\n",
       "      <td>0.0</td>\n",
       "      <td>0.0</td>\n",
       "      <td>0.0</td>\n",
       "      <td>0.0</td>\n",
       "      <td>0.0</td>\n",
       "      <td>0.0</td>\n",
       "      <td>0.0</td>\n",
       "      <td>0.0</td>\n",
       "      <td>0.0</td>\n",
       "      <td>0.0</td>\n",
       "      <td>...</td>\n",
       "      <td>0.0</td>\n",
       "      <td>0.0</td>\n",
       "      <td>0.0</td>\n",
       "      <td>0.0</td>\n",
       "      <td>0.0</td>\n",
       "      <td>0.0</td>\n",
       "      <td>0.0</td>\n",
       "      <td>0.0</td>\n",
       "      <td>0.0</td>\n",
       "      <td>0.0</td>\n",
       "    </tr>\n",
       "    <tr>\n",
       "      <th>NewsGrit</th>\n",
       "      <td>0.0</td>\n",
       "      <td>0.0</td>\n",
       "      <td>0.0</td>\n",
       "      <td>0.0</td>\n",
       "      <td>0.0</td>\n",
       "      <td>0.0</td>\n",
       "      <td>0.0</td>\n",
       "      <td>0.0</td>\n",
       "      <td>0.0</td>\n",
       "      <td>0.0</td>\n",
       "      <td>...</td>\n",
       "      <td>0.0</td>\n",
       "      <td>0.0</td>\n",
       "      <td>0.0</td>\n",
       "      <td>0.0</td>\n",
       "      <td>0.0</td>\n",
       "      <td>1.0</td>\n",
       "      <td>0.0</td>\n",
       "      <td>0.0</td>\n",
       "      <td>0.0</td>\n",
       "      <td>0.0</td>\n",
       "    </tr>\n",
       "  </tbody>\n",
       "</table>\n",
       "<p>5 rows × 346 columns</p>\n",
       "</div>"
      ],
      "text/plain": [
       "                 ItaliaCamp  LuluLAngeles  SugarAndMusk  GorillaCapitlst  \\\n",
       "ItaliaCamp              0.0           0.0           0.0              0.0   \n",
       "LuluLAngeles            1.0           0.0           0.0              1.0   \n",
       "SugarAndMusk            0.0           0.0           0.0              0.0   \n",
       "GorillaCapitlst         0.0           0.0           0.0              0.0   \n",
       "NewsGrit                0.0           0.0           0.0              0.0   \n",
       "\n",
       "                 NewsGrit  PshrinkEmeritus  CorbettTracie  oidptg  \\\n",
       "ItaliaCamp            0.0              0.0            0.0     1.0   \n",
       "LuluLAngeles          0.0              0.0            0.0     1.0   \n",
       "SugarAndMusk          0.0              0.0            0.0     0.0   \n",
       "GorillaCapitlst       0.0              0.0            0.0     0.0   \n",
       "NewsGrit              0.0              0.0            0.0     0.0   \n",
       "\n",
       "                 NietzscheAndDan  ColombianRefug  ...  6549lmartin  ilaeornom  \\\n",
       "ItaliaCamp                   0.0             0.0  ...          0.0        0.0   \n",
       "LuluLAngeles                 1.0             0.0  ...          0.0        0.0   \n",
       "SugarAndMusk                 0.0             0.0  ...          0.0        0.0   \n",
       "GorillaCapitlst              0.0             0.0  ...          0.0        0.0   \n",
       "NewsGrit                     0.0             0.0  ...          0.0        0.0   \n",
       "\n",
       "                 Pairsonnalites  MariaLCX  fo77owme  cesarshrimp100  \\\n",
       "ItaliaCamp                  0.0       0.0       0.0             0.0   \n",
       "LuluLAngeles                0.0       0.0       0.0             0.0   \n",
       "SugarAndMusk                0.0       0.0       0.0             0.0   \n",
       "GorillaCapitlst             0.0       0.0       0.0             0.0   \n",
       "NewsGrit                    0.0       0.0       0.0             1.0   \n",
       "\n",
       "                 silaas3005  DebbyRevere  HarunMaruf  kgerstman  \n",
       "ItaliaCamp              1.0          0.0         0.0        0.0  \n",
       "LuluLAngeles            1.0          0.0         0.0        0.0  \n",
       "SugarAndMusk            0.0          0.0         0.0        0.0  \n",
       "GorillaCapitlst         0.0          0.0         0.0        0.0  \n",
       "NewsGrit                0.0          0.0         0.0        0.0  \n",
       "\n",
       "[5 rows x 346 columns]"
      ]
     },
     "execution_count": 137,
     "metadata": {},
     "output_type": "execute_result"
    }
   ],
   "source": [
    "# examples ... to np ndarray: np.array(sr_amt)\n",
    "sr_amt.head()"
   ]
  },
  {
   "cell_type": "markdown",
   "metadata": {},
   "source": [
    "***Nodes degree [diagonal] matrix of edges:*** $\\mathcal{M}_{c_{vd}}^{n \\times n}$\n",
    "\n",
    "    #Essentially, this is the degree matrix of the nodes. We can observe some nodes have higher number of reciprocal ties than some,e.g node 1 has 17 ties while node 2 has 1"
   ]
  },
  {
   "cell_type": "code",
   "execution_count": 226,
   "metadata": {},
   "outputs": [
    {
     "data": {
      "text/plain": [
       "((346, 346), (346, 346))"
      ]
     },
     "execution_count": 226,
     "metadata": {},
     "output_type": "execute_result"
    }
   ],
   "source": [
    "# diagonal matrix of a structurally-related set of nodes:\n",
    "sr_dmt = np.diag(sr_amt.sum(axis=1))\n",
    "sr_amt.shape, sr_dmt.shape"
   ]
  },
  {
   "cell_type": "code",
   "execution_count": 227,
   "metadata": {},
   "outputs": [
    {
     "data": {
      "text/plain": [
       "array([[35.,  0.,  0., ...,  0.,  0.,  0.],\n",
       "       [ 0., 53.,  0., ...,  0.,  0.,  0.],\n",
       "       [ 0.,  0.,  1., ...,  0.,  0.,  0.],\n",
       "       ...,\n",
       "       [ 0.,  0.,  0., ...,  0.,  0.,  0.],\n",
       "       [ 0.,  0.,  0., ...,  0.,  0.,  0.],\n",
       "       [ 0.,  0.,  0., ...,  0.,  0.,  0.]])"
      ]
     },
     "execution_count": 227,
     "metadata": {},
     "output_type": "execute_result"
    }
   ],
   "source": [
    "sr_dmt"
   ]
  },
  {
   "cell_type": "markdown",
   "metadata": {},
   "source": [
    "***Nodes Laplacian matrix:*** $\\mathcal{M}_{c_{vl}}^{n\\times n}$\n",
    "\n",
    "    # this matrix encodes two things: the degree of each node and the presence/absence of edges among nodes. A  negative entry signifies an edge while a zero entry signifies no connection."
   ]
  },
  {
   "cell_type": "code",
   "execution_count": 228,
   "metadata": {},
   "outputs": [
    {
     "data": {
      "text/plain": [
       "(array([[35.,  0.,  0., ...,  0.,  0.,  0.],\n",
       "        [-1., 53.,  0., ...,  0.,  0.,  0.],\n",
       "        [ 0.,  0.,  1., ...,  0.,  0.,  0.],\n",
       "        ...,\n",
       "        [ 0.,  0.,  0., ...,  0.,  0.,  0.],\n",
       "        [ 0.,  0.,  0., ...,  0.,  0.,  0.],\n",
       "        [ 0.,  0.,  0., ...,  0.,  0.,  0.]]), (346, 346))"
      ]
     },
     "execution_count": 228,
     "metadata": {},
     "output_type": "execute_result"
    }
   ],
   "source": [
    "#the Laplacin matrix, lm:\n",
    "sr_lmt = sr_dmt - np.array(sr_amt)\n",
    "sr_lmt, sr_lmt.shape"
   ]
  },
  {
   "cell_type": "code",
   "execution_count": 150,
   "metadata": {},
   "outputs": [],
   "source": [
    "# view first 5 smaples, if using dataframe: sr_lmt.head()"
   ]
  },
  {
   "cell_type": "markdown",
   "metadata": {},
   "source": [
    "***Nodes and reciprocal-communities:*** $\\mathcal{M}_{c_{vr}}^{n\\times k}$\n",
    "\n",
    "    # a matrix of nodes according to the degree of affiliation to communities. For instance, a given node can be related to many nodes but with different intensity/magnitude in reciprocal community: (v1:v2 = 0.75, v1:v3 =0.95, v1:v5 = 1.0). This also enables us to examine which community is more prevalence among the users. The first 5 samples (shown below) shows community 0.75 is more dominant, then followed by community 1.25 (basically, the extremum of the range)."
   ]
  },
  {
   "cell_type": "code",
   "execution_count": 151,
   "metadata": {},
   "outputs": [
    {
     "data": {
      "text/plain": [
       "((346, 58), (921, 58))"
      ]
     },
     "execution_count": 151,
     "metadata": {},
     "output_type": "execute_result"
    }
   ],
   "source": [
    "# a matrix of nodes vs. communities:\n",
    "columns = set(df.CommBand)\n",
    "index = set.union(set(df.Va_Name),set(df.Vi_Name))\n",
    "sr_vrcom =pd.DataFrame(np.zeros(shape=(len(index),len(columns))),columns=columns, index=index) # empty df\n",
    "# update with relevant values ... \n",
    "for v1, v2, r in zip(df.Va_Name, df.CommBand,df.Dyads):\n",
    "    if r>0:\n",
    "        sr_vrcom.at[v1,v2]=r\n",
    "    else:\n",
    "        sr_vrcom.at[v1,v2]=0\n",
    "# get the users with reciprocal ties only\n",
    "p=sr_vrcom[sr_vrcom.values>0] \n",
    "sr_vrcom.shape, p.shape"
   ]
  },
  {
   "cell_type": "code",
   "execution_count": 2,
   "metadata": {},
   "outputs": [],
   "source": [
    "#sr_vrcom.head()"
   ]
  },
  {
   "cell_type": "code",
   "execution_count": 155,
   "metadata": {},
   "outputs": [
    {
     "data": {
      "text/plain": [
       "array([[1., 1., 0., ..., 0., 0., 0.],\n",
       "       [1., 1., 0., ..., 0., 0., 0.],\n",
       "       [0., 1., 0., ..., 0., 0., 0.],\n",
       "       ...,\n",
       "       [0., 0., 0., ..., 0., 0., 0.],\n",
       "       [0., 0., 0., ..., 0., 0., 0.],\n",
       "       [0., 0., 0., ..., 0., 0., 0.]])"
      ]
     },
     "execution_count": 155,
     "metadata": {},
     "output_type": "execute_result"
    }
   ],
   "source": [
    "sr_vrcom = np.array(sr_vrcom) # nodes vs. communities\n",
    "sr_vrcom"
   ]
  },
  {
   "cell_type": "markdown",
   "metadata": {},
   "source": [
    "***Reciprocal-communities adjacency:*** $\\mathcal{M}_{c_{ra}}^{k\\times k}$"
   ]
  },
  {
   "cell_type": "code",
   "execution_count": null,
   "metadata": {},
   "outputs": [],
   "source": [
    "# a matrix of nodes vs. communities:\n",
    "columns = set(df.CommBand)\n",
    "index = set(df.CommBand)\n",
    "sr_rcom_adj = pd.DataFrame(np.zeros(shape=(len(index),len(columns))),columns=columns, index=index) # empty df\n",
    "# update with relevant values ... \n",
    "for v1, v2, r in zip(df.CommBand, df.CommBand,df.Dyads):\n",
    "    if r>0:\n",
    "        sr_rcom_adj.at[v1,v2]=r\n",
    "    else:\n",
    "        sr_rcom_adj.at[v1,v2]=0\n",
    "# get the users with reciprocal ties only\n",
    "p=sr_rcom_adj[sr_rcom_adj.values>0] \n",
    "sr_rcom_adj.shape, p.shape"
   ]
  },
  {
   "cell_type": "code",
   "execution_count": 3,
   "metadata": {},
   "outputs": [],
   "source": [
    "#sr_rcom_adj.head()"
   ]
  },
  {
   "cell_type": "code",
   "execution_count": 158,
   "metadata": {},
   "outputs": [
    {
     "data": {
      "text/plain": [
       "array([[1., 0., 0., ..., 0., 0., 0.],\n",
       "       [0., 1., 0., ..., 0., 0., 0.],\n",
       "       [0., 0., 1., ..., 0., 0., 0.],\n",
       "       ...,\n",
       "       [0., 0., 0., ..., 1., 0., 0.],\n",
       "       [0., 0., 0., ..., 0., 1., 0.],\n",
       "       [0., 0., 0., ..., 0., 0., 1.]])"
      ]
     },
     "execution_count": 158,
     "metadata": {},
     "output_type": "execute_result"
    }
   ],
   "source": [
    "sr_rcom_adj =  np.array(sr_rcom_adj) # community adjacency\n",
    "sr_rcom_adj"
   ]
  },
  {
   "cell_type": "code",
   "execution_count": 214,
   "metadata": {},
   "outputs": [
    {
     "data": {
      "text/plain": [
       "array([[0.6 , 0.  , 0.  , ..., 0.  , 0.  , 0.  ],\n",
       "       [0.  , 0.65, 0.  , ..., 0.  , 0.  , 0.  ],\n",
       "       [0.  , 0.  , 0.65, ..., 0.  , 0.  , 0.  ],\n",
       "       ...,\n",
       "       [0.  , 0.  , 0.  , ..., 0.6 , 0.  , 0.  ],\n",
       "       [0.  , 0.  , 0.  , ..., 0.  , 1.  , 0.  ],\n",
       "       [0.  , 0.  , 0.  , ..., 0.  , 0.  , 0.6 ]])"
      ]
     },
     "execution_count": 214,
     "metadata": {},
     "output_type": "execute_result"
    }
   ],
   "source": [
    "sr_rcom_adj = np.array(sr_rcom_adj)\n",
    "sr_rcom_adj"
   ]
  },
  {
   "cell_type": "markdown",
   "metadata": {},
   "source": [
    "**all shapes:**"
   ]
  },
  {
   "cell_type": "code",
   "execution_count": null,
   "metadata": {},
   "outputs": [],
   "source": [
    "sr_amt.shape, sr_dmt.shape, sr_lmt.shape, sr_vrcom.shape, sr_rcom_adj.shape, sr_rcom_dmt.shape"
   ]
  },
  {
   "cell_type": "markdown",
   "metadata": {},
   "source": [
    "**Offset matrix:** $Z_{i,j} =1$ if $\\mathcal{M}_{c_{vl_{i,j}}} \\geq 0$ or $Z_{i,j} =-1$ if $\\mathcal{M}_{c_{vl_{i,j}}} \\leq 0$\n",
    "\n",
    "    #to prevent negative entries in the matrix"
   ]
  },
  {
   "cell_type": "code",
   "execution_count": 233,
   "metadata": {},
   "outputs": [
    {
     "data": {
      "text/plain": [
       "(array([[35.,  0.,  0., ...,  0.,  0.,  0.],\n",
       "        [-1., 53.,  0., ...,  0.,  0.,  0.],\n",
       "        [ 0.,  0.,  1., ...,  0.,  0.,  0.],\n",
       "        ...,\n",
       "        [ 0.,  0.,  0., ...,  0.,  0.,  0.],\n",
       "        [ 0.,  0.,  0., ...,  0.,  0.,  0.],\n",
       "        [ 0.,  0.,  0., ...,  0.,  0.,  0.]]),\n",
       " array([[35.,  0.,  0., ...,  0.,  0.,  0.],\n",
       "        [ 1., 53.,  0., ...,  0.,  0.,  0.],\n",
       "        [ 0.,  0.,  1., ...,  0.,  0.,  0.],\n",
       "        ...,\n",
       "        [ 0.,  0.,  0., ...,  0.,  0.,  0.],\n",
       "        [ 0.,  0.,  0., ...,  0.,  0.,  0.],\n",
       "        [ 0.,  0.,  0., ...,  0.,  0.,  0.]]))"
      ]
     },
     "execution_count": 233,
     "metadata": {},
     "output_type": "execute_result"
    }
   ],
   "source": [
    "# set the offset and create the new Laplacian matrix with the offse muliplication Z:\n",
    "sr_lmt2 = np.multiply(sr_lmt, np.where(sr_lmt<0, -1,1))\n",
    "sr_lmt, sr_lmt2"
   ]
  },
  {
   "cell_type": "markdown",
   "metadata": {},
   "source": [
    "**$\\mathcal{S}_r$ Model:**"
   ]
  },
  {
   "cell_type": "markdown",
   "metadata": {},
   "source": [
    "#### I.I Structurally-related clusters: Model and Training\n",
    "\n",
    "Having obtain all the relevant input/data, the next step is implementation. This study utlises *Pytorch* for the implementation of the following algorithm:\n",
    " - ***initialisation:*** $\\{\\} \\longleftarrow \\mathcal{S}_r; \\{\\} \\longleftarrow \\mathcal{S}_u$\n",
    " - ***input:*** a finite collection of network data $\\mathcal{D} \\neq \\emptyset$\n",
    " - $\\forall v_i, v_j \\in \\mathcal{D}$, compute $p(R_{v_i,v_j}) \\hspace{28mm} \\triangleright~ v_i\\neq v_j$ \n",
    " - if $p(R_{v_i,v_j}) \\geq \\tau \\hspace{58mm} \\triangleright ~\\tau$, *a predefined threshold*\n",
    "     - $\\mathcal{S}_r \\gets (v_i,v_j) \\hspace{54mm} \\triangleright$ *structurally-related*\n",
    " - else:\n",
    "     - $\\mathcal{S}_u\\gets (v_i,v_j) \\hspace{54mm} \\triangleright$ *structurally-unrelated*\n",
    " - ***output:***\n",
    "     - $\\mathcal{S}_r,\\mathcal{S}_u, \\mathcal{M}_{sa}^{n\\times n}\\hspace{52mm}\\triangleright~$ *adjacency matrix* "
   ]
  },
  {
   "cell_type": "markdown",
   "metadata": {},
   "source": [
    "**Matrix Factorisation:** \n",
    "\n",
    "***Initialisations:*** Matrices and corresponding dimensions:\n",
    " - $\\mathcal{M}_{sc_{va}} \\mapsto n \\times n \\hspace{5mm}:$ *adjacency matrix of structurally-related nodes*\n",
    " - $\\mathcal{M}_{c_{vd}} \\mapsto n \\times n \\hspace{5mm}:$ *nodes diagonal matrix*\n",
    " - $\\mathcal{M}_{c_{vl}} \\mapsto n \\times n \\hspace{5mm}:$ *nodes Laplacian matrix*\n",
    " - $\\mathcal{M}_{c_{vr}} \\mapsto n \\times k \\hspace{3mm}:$ *a collection of nodes according to reciprocal-communities*\n",
    " - $\\mathcal{M}_{c_{ra}} \\mapsto k \\times k \\hspace{3mm}:$ *reciprocal-communities adjacency matrix*\n",
    " - $\\mathcal{M}_{c_{rd}} \\mapsto k \\times k \\hspace{3mm}:$ *reciprocal-communities diagonal matrix*\n",
    "\n",
    "For simplicity, the following notations are used:\n",
    "\n",
    "$\\mathcal{M}_{c_{vl}} \\mapsto D; \\hspace{3mm} \\mathcal{M}_{c_{vr}} \\mapsto P=[p_{ij}]; \\hspace{3mm} \\mathcal{M}_{c_{ra}} \\mapsto Q=[q_{ij}]$"
   ]
  },
  {
   "cell_type": "code",
   "execution_count": 248,
   "metadata": {},
   "outputs": [],
   "source": [
    "# initialise the matrices with random values using the embedding layer:\n",
    "D = sr_lmt2 # nodes laplacian\n",
    "P = np.random.rand(D.shape[0], sr_vrcom.shape[1]) # nodes and communites, the basis\n",
    "Q = np.random.rand(sr_rcom_adj.shape[0], sr_rcom_adj.shape[1]) #communitites, the coeeficients"
   ]
  },
  {
   "cell_type": "code",
   "execution_count": 355,
   "metadata": {},
   "outputs": [
    {
     "data": {
      "text/plain": [
       "(346, 346)"
      ]
     },
     "execution_count": 355,
     "metadata": {},
     "output_type": "execute_result"
    }
   ],
   "source": [
    "D.shape"
   ]
  },
  {
   "cell_type": "code",
   "execution_count": 356,
   "metadata": {},
   "outputs": [
    {
     "data": {
      "text/plain": [
       "array([[35.,  0.,  0., ...,  0.,  0.,  0.],\n",
       "       [ 1., 53.,  0., ...,  0.,  0.,  0.],\n",
       "       [ 0.,  0.,  1., ...,  0.,  0.,  0.],\n",
       "       ...,\n",
       "       [ 0.,  0.,  0., ...,  0.,  0.,  0.],\n",
       "       [ 0.,  0.,  0., ...,  0.,  0.,  0.],\n",
       "       [ 0.,  0.,  0., ...,  0.,  0.,  0.]])"
      ]
     },
     "execution_count": 356,
     "metadata": {},
     "output_type": "execute_result"
    }
   ],
   "source": [
    "D"
   ]
  },
  {
   "cell_type": "code",
   "execution_count": 357,
   "metadata": {},
   "outputs": [
    {
     "data": {
      "text/plain": [
       "(array([[0.62343883, 0.49745284, 0.93557885, ..., 0.94973768, 0.30951235,\n",
       "         0.21644183],\n",
       "        [0.35973188, 0.78482078, 0.99396444, ..., 0.28427653, 0.06707378,\n",
       "         0.1379731 ],\n",
       "        [0.78404398, 0.77323096, 0.73186601, ..., 0.77355178, 0.0201696 ,\n",
       "         0.47191441],\n",
       "        ...,\n",
       "        [0.67413265, 0.53575594, 0.56811568, ..., 0.60683693, 0.13955843,\n",
       "         0.04703396],\n",
       "        [0.99082355, 0.66730111, 0.45232921, ..., 0.72140445, 0.74832162,\n",
       "         0.15618759],\n",
       "        [0.01171263, 0.74254346, 0.28524965, ..., 0.45281675, 0.67962215,\n",
       "         0.90577343]]),\n",
       " array([[0.93597051, 0.19046834, 0.82319459, ..., 0.88318124, 0.6699693 ,\n",
       "         0.9615813 ],\n",
       "        [0.04296863, 0.34943073, 0.58855389, ..., 0.9576318 , 0.47145496,\n",
       "         0.50039365],\n",
       "        [0.22315847, 0.57978463, 0.2119457 , ..., 0.4057317 , 0.43701906,\n",
       "         0.80107925],\n",
       "        ...,\n",
       "        [0.14551776, 0.77703052, 0.18273403, ..., 0.50910067, 0.50908546,\n",
       "         0.972487  ],\n",
       "        [0.77567869, 0.88090644, 0.40268627, ..., 0.73407073, 0.84552212,\n",
       "         0.34626187],\n",
       "        [0.93288927, 0.61034209, 0.52246454, ..., 0.13940015, 0.87361958,\n",
       "         0.75402358]]))"
      ]
     },
     "execution_count": 357,
     "metadata": {},
     "output_type": "execute_result"
    }
   ],
   "source": [
    "P, Q # matrices to use in learning D"
   ]
  },
  {
   "cell_type": "code",
   "execution_count": 358,
   "metadata": {},
   "outputs": [
    {
     "data": {
      "text/plain": [
       "((346, 346), (346, 58), (58, 58), (58, 346))"
      ]
     },
     "execution_count": 358,
     "metadata": {},
     "output_type": "execute_result"
    }
   ],
   "source": [
    "D.shape, P.shape, Q.shape, P.T.shape"
   ]
  },
  {
   "cell_type": "markdown",
   "metadata": {},
   "source": []
  },
  {
   "cell_type": "code",
   "execution_count": null,
   "metadata": {},
   "outputs": [],
   "source": []
  }
 ],
 "metadata": {
  "kernelspec": {
   "display_name": "TensorFlow-GPU",
   "language": "python",
   "name": "tf-gpu"
  },
  "language_info": {
   "codemirror_mode": {
    "name": "ipython",
    "version": 3
   },
   "file_extension": ".py",
   "mimetype": "text/x-python",
   "name": "python",
   "nbconvert_exporter": "python",
   "pygments_lexer": "ipython3",
   "version": "3.7.3"
  }
 },
 "nbformat": 4,
 "nbformat_minor": 2
}
